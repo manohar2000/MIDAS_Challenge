{
 "cells": [
  {
   "cell_type": "code",
   "execution_count": 1,
   "metadata": {},
   "outputs": [
    {
     "name": "stderr",
     "output_type": "stream",
     "text": [
      "WARNING:root:Limited tf.compat.v2.summary API due to missing TensorBoard installation.\n",
      "WARNING:root:Limited tf.compat.v2.summary API due to missing TensorBoard installation.\n",
      "WARNING:root:Limited tf.compat.v2.summary API due to missing TensorBoard installation.\n",
      "WARNING:root:Limited tf.summary API due to missing TensorBoard installation.\n"
     ]
    }
   ],
   "source": [
    "from tensorflow.keras.models import Sequential \n",
    "from tensorflow.keras.layers import Dense, Flatten, Dropout, BatchNormalization, Conv2D, MaxPool2D\n",
    "import numpy as np\n",
    "import pandas as pd\n",
    "import matplotlib.pyplot as plt\n",
    "import os"
   ]
  },
  {
   "cell_type": "markdown",
   "metadata": {},
   "source": [
    "## Exploring the data"
   ]
  },
  {
   "cell_type": "code",
   "execution_count": 4,
   "metadata": {},
   "outputs": [
    {
     "name": "stdout",
     "output_type": "stream",
     "text": [
      "Total no. of images present in Sample001 are: 40\n",
      "Total no. of images present in Sample002 are: 40\n",
      "Total no. of images present in Sample003 are: 40\n",
      "Total no. of images present in Sample004 are: 40\n",
      "Total no. of images present in Sample005 are: 40\n",
      "Total no. of images present in Sample006 are: 40\n",
      "Total no. of images present in Sample007 are: 40\n",
      "Total no. of images present in Sample008 are: 40\n",
      "Total no. of images present in Sample009 are: 40\n",
      "Total no. of images present in Sample010 are: 40\n",
      "Total no. of images present in Sample011 are: 40\n",
      "Total no. of images present in Sample012 are: 40\n",
      "Total no. of images present in Sample013 are: 40\n",
      "Total no. of images present in Sample014 are: 40\n",
      "Total no. of images present in Sample015 are: 40\n",
      "Total no. of images present in Sample016 are: 40\n",
      "Total no. of images present in Sample017 are: 40\n",
      "Total no. of images present in Sample018 are: 40\n",
      "Total no. of images present in Sample019 are: 40\n",
      "Total no. of images present in Sample020 are: 40\n",
      "Total no. of images present in Sample021 are: 40\n",
      "Total no. of images present in Sample022 are: 40\n",
      "Total no. of images present in Sample023 are: 40\n",
      "Total no. of images present in Sample024 are: 40\n",
      "Total no. of images present in Sample025 are: 40\n",
      "Total no. of images present in Sample026 are: 40\n",
      "Total no. of images present in Sample027 are: 40\n",
      "Total no. of images present in Sample028 are: 40\n",
      "Total no. of images present in Sample029 are: 40\n",
      "Total no. of images present in Sample030 are: 40\n",
      "Total no. of images present in Sample031 are: 40\n",
      "Total no. of images present in Sample032 are: 40\n",
      "Total no. of images present in Sample033 are: 40\n",
      "Total no. of images present in Sample034 are: 40\n",
      "Total no. of images present in Sample035 are: 40\n",
      "Total no. of images present in Sample036 are: 40\n",
      "Total no. of images present in Sample037 are: 40\n",
      "Total no. of images present in Sample038 are: 40\n",
      "Total no. of images present in Sample039 are: 40\n",
      "Total no. of images present in Sample040 are: 40\n",
      "Total no. of images present in Sample041 are: 40\n",
      "Total no. of images present in Sample042 are: 40\n",
      "Total no. of images present in Sample043 are: 40\n",
      "Total no. of images present in Sample044 are: 40\n",
      "Total no. of images present in Sample045 are: 40\n",
      "Total no. of images present in Sample046 are: 40\n",
      "Total no. of images present in Sample047 are: 40\n",
      "Total no. of images present in Sample048 are: 40\n",
      "Total no. of images present in Sample049 are: 40\n",
      "Total no. of images present in Sample050 are: 40\n",
      "Total no. of images present in Sample051 are: 40\n",
      "Total no. of images present in Sample052 are: 40\n",
      "Total no. of images present in Sample053 are: 40\n",
      "Total no. of images present in Sample054 are: 40\n",
      "Total no. of images present in Sample055 are: 40\n",
      "Total no. of images present in Sample056 are: 40\n",
      "Total no. of images present in Sample057 are: 40\n",
      "Total no. of images present in Sample058 are: 40\n",
      "Total no. of images present in Sample059 are: 40\n",
      "Total no. of images present in Sample060 are: 40\n",
      "Total no. of images present in Sample061 are: 40\n",
      "Total no. of images present in Sample062 are: 40\n"
     ]
    }
   ],
   "source": [
    "# checking the count of images present in the dataset\n",
    "total_images = 0\n",
    "root_dir = \"Dataset_1/train\"\n",
    "for i in os.listdir(root_dir):\n",
    "    print(\"Total no. of images present in\",i,\"are:\",len(os.listdir(root_dir+\"/\"+i)))\n",
    "    total_images+=len(os.listdir(root_dir+\"/\"+i))"
   ]
  },
  {
   "cell_type": "code",
   "execution_count": 3,
   "metadata": {},
   "outputs": [
    {
     "data": {
      "image/png": "[encoded data removed]",
      "text/plain": [
       "<Figure size 432x288 with 10 Axes>"
      ]
     },
     "metadata": {
      "needs_background": "light"
     },
     "output_type": "display_data"
    }
   ],
   "source": [
    "# plotting various images from the dataset.\n",
    "plt.subplot(2, 5, 1)\n",
    "plt.imshow(plt.imread(\"Dataset_1/train/Sample001/img001-001.png\"))\n",
    "\n",
    "plt.subplot(2,5,2)\n",
    "plt.imshow(plt.imread(\"Dataset_1/train/Sample003/img003-002.png\"))\n",
    "\n",
    "plt.subplot(2,5,3)\n",
    "plt.imshow(plt.imread(\"Dataset_1/train/Sample005/img005-001.png\"))\n",
    "\n",
    "plt.subplot(2,5,4)\n",
    "plt.imshow(plt.imread(\"Dataset_1/train/Sample008/img008-002.png\"))\n",
    "\n",
    "plt.subplot(2,5,5)\n",
    "plt.imshow(plt.imread(\"Dataset_1/train/Sample010/img010-002.png\"))\n",
    "\n",
    "plt.subplot(2,5,6)\n",
    "plt.imshow(plt.imread(\"Dataset_1/train/Sample023/img023-001.png\"))\n",
    "\n",
    "plt.subplot(2,5,7)\n",
    "plt.imshow(plt.imread(\"Dataset_1/train/Sample019/img019-001.png\"))\n",
    "\n",
    "plt.subplot(2,5,8)\n",
    "plt.imshow(plt.imread(\"Dataset_1/train/Sample014/img014-001.png\"))\n",
    "\n",
    "plt.subplot(2,5,9)\n",
    "plt.imshow(plt.imread(\"Dataset_1/train/Sample011/img011-001.png\"))\n",
    "\n",
    "plt.subplot(2,5,10)\n",
    "plt.imshow(plt.imread(\"Dataset_1/train/Sample029/img029-002.png\"))\n",
    "\n",
    "\n",
    "plt.show()"
   ]
  },
  {
   "cell_type": "code",
   "execution_count": 4,
   "metadata": {},
   "outputs": [
    {
     "name": "stdout",
     "output_type": "stream",
     "text": [
      "(900, 1200, 3)\n"
     ]
    },
    {
     "data": {
      "image/png": "[encoded data removed]",
      "text/plain": [
       "<Figure size 432x288 with 1 Axes>"
      ]
     },
     "metadata": {
      "needs_background": "light"
     },
     "output_type": "display_data"
    }
   ],
   "source": [
    "img = plt.imread(\"Dataset_1/train/Sample002/img002-001.png\")\n",
    "print(img.shape)\n",
    "plt.imshow(img)\n",
    "plt.show()"
   ]
  },
  {
   "cell_type": "code",
   "execution_count": 5,
   "metadata": {},
   "outputs": [
    {
     "name": "stdout",
     "output_type": "stream",
     "text": [
      "maximum pixel value of image: 1.0\n",
      "minimum pixel value of image: 0.0\n"
     ]
    }
   ],
   "source": [
    "# checking the min and max pixel value. It is a good practise to normalize the pixel values\n",
    "print(\"maximum pixel value of image:\",img.max())\n",
    "print(\"minimum pixel value of image:\",img.min())"
   ]
  },
  {
   "cell_type": "raw",
   "metadata": {},
   "source": [
    "Conclusions:\n",
    "\n",
    "1) For all the 62 category we only have 40 images. Depending on the performance of our model, we might need to apply data augmentation to achieve more accuracy.\n",
    "2) Initially, the images are of the shape 900*1200*3. As we can see from the random samples we have printed, there is a lot of unnceccsary padding in the images. We can remove this padding which would improve our computation speed.\n",
    "3) Normalizing the pixel values ensures that input parameters have a uniform distribution and thus helps in faster covergence. Since, the values are already normalized we don't need to modify the pixel values. [2]\n",
    "4) Large image size implies added noise and variance that the neural network has to deal with. Which in turn also means that we would need more layers to achieve a greater accuracy. [3]\n",
    "5) Since most of the input features are alligned towards the center, we can take a square crop of the center. This would also help us to tackle with problems mentioned in point 1 and point 3.\n",
    "\n",
    "It would optimal to apply the above transformations on the image while loading it into the numpy array. Another alternate would have been to either overwrite the images with their transformed version or create a new folder. Both of these methods are not efficient as we might end up with either loosing the data or unneccessarily increase the storage requirement."
   ]
  },
  {
   "cell_type": "markdown",
   "metadata": {},
   "source": [
    "## Loading the data and assigning the labels"
   ]
  },
  {
   "cell_type": "raw",
   "metadata": {},
   "source": [
    "For model training, we would require a list(X) in which our images are stores and another list(y) in which the class of respective images are stored.\n",
    "Since the images are organised folder wise, we need to access the images from these folder append it into list X and subsequently append it's class to the list Y.\n",
    "\n",
    "Data transformations, that were mentioned above, will be applied after storing the data into the list\n",
    "\n",
    "Various machine learning frameworks require the input data and labels to be given as a numpy array. Since, retrieving data and transforming it is more accessible through list I have chosen to use that. The datatype will be changed to a numpy array after applying all the transformations.\n",
    "\n",
    "Outline of stored data:\n",
    "Sample001-Sample010: digits from 0 to 9\n",
    "Sample011-Sample036: upper case alphabets a-z\n",
    "Sample037-Sample062: small case alphabets A-Z"
   ]
  },
  {
   "cell_type": "code",
   "execution_count": 3,
   "metadata": {},
   "outputs": [],
   "source": [
    "X = list() #list for storing image arrays\n",
    "y = list() # list for storing the image labels"
   ]
  },
  {
   "cell_type": "code",
   "execution_count": null,
   "metadata": {},
   "outputs": [],
   "source": [
    "# storing digits from 0 to 9 first\n",
    "count = 0 # count will be used to store the respective label\n",
    "for i in os.listdir(root_dir): \n",
    "    for j in os.listdir(root_dir + \"/\" + i): # accessing the folder\n",
    "        X.append(plt.imread(root_dir+\"/\" + i + \"/\" + j)) # accessing images in the respective folder\n",
    "        y.append(str(count))\n",
    "    count+=1 #incrementing the count/label \n",
    "    if(count==10): break # if all the images from 0 to 9 have been stored then break out of the loop\n",
    "    "
   ]
  },
  {
   "cell_type": "code",
   "execution_count": 8,
   "metadata": {},
   "outputs": [
    {
     "name": "stdout",
     "output_type": "stream",
     "text": [
      "400\n",
      "400\n",
      "0 2 9\n"
     ]
    },
    {
     "data": {
      "image/png": "[encoded data removed]",
      "text/plain": [
       "<Figure size 432x288 with 3 Axes>"
      ]
     },
     "metadata": {
      "needs_background": "light"
     },
     "output_type": "display_data"
    }
   ],
   "source": [
    "# sanity check\n",
    "print(len(X))\n",
    "print(len(y))\n",
    "\n",
    "plt.subplot(1,3,1)\n",
    "plt.imshow(X[0])\n",
    "\n",
    "plt.subplot(1,3,2)\n",
    "plt.imshow(X[80])\n",
    "\n",
    "plt.subplot(1,3,3)\n",
    "plt.imshow(X[399])\n",
    "\n",
    "\n",
    "print(y[0],y[80],y[399])"
   ]
  },
  {
   "cell_type": "code",
   "execution_count": 9,
   "metadata": {},
   "outputs": [],
   "source": [
    "# storing upper case alphabets (A-Z)\n",
    "count = 65  #ascii value of A. We'll go till 90 i.e ascii value of Z\n",
    "\n",
    "for i in os.listdir(root_dir)[10:]: #accessing folder after Sample010 i.e folders after the digit 9\n",
    "    for j in os.listdir(root_dir + \"/\" + i):\n",
    "        X.append(plt.imread(root_dir+\"/\" + i + \"/\" + j))\n",
    "        y.append(chr(count))\n",
    "        \n",
    "    count+=1\n",
    "    if(count==78): break #if we have accessed the Z folder then break the loop      "
   ]
  },
  {
   "cell_type": "code",
   "execution_count": 8,
   "metadata": {},
   "outputs": [],
   "source": [
    "count = 78\n",
    "for i in os.listdir(root_dir)[23:]: #accessing folder after Sample010 i.e folders after the alphabet m\n",
    "    for j in os.listdir(root_dir + \"/\" + i):\n",
    "        X.append(plt.imread(root_dir+\"/\" + i + \"/\" + j))\n",
    "        y.append(chr(count))\n",
    "        \n",
    "    count+=1\n",
    "    if(count==91): break #if we have accessed the Z folder then break the loop "
   ]
  },
  {
   "cell_type": "code",
   "execution_count": 36,
   "metadata": {},
   "outputs": [
    {
     "name": "stdout",
     "output_type": "stream",
     "text": [
      "1440\n",
      "1440\n",
      "A M N Z\n"
     ]
    },
    {
     "data": {
      "image/png": "[encoded data removed]",
      "text/plain": [
       "<Figure size 432x288 with 4 Axes>"
      ]
     },
     "metadata": {
      "needs_background": "light"
     },
     "output_type": "display_data"
    }
   ],
   "source": [
    "# sanity check\n",
    "print(len(X))\n",
    "print(len(y))\n",
    "\n",
    "plt.subplot(1,4,1)\n",
    "plt.imshow(X[401])\n",
    "\n",
    "plt.subplot(1,4,2)\n",
    "plt.imshow(X[880])\n",
    "\n",
    "plt.subplot(1,4,3)\n",
    "plt.imshow(X[959])\n",
    "\n",
    "\n",
    "plt.subplot(1,4,4)\n",
    "plt.imshow(X[1439])\n",
    "\n",
    "\n",
    "\n",
    "\n",
    "print(y[401],y[880], y[959],y[1439])"
   ]
  },
  {
   "cell_type": "code",
   "execution_count": 7,
   "metadata": {},
   "outputs": [],
   "source": [
    "# storing lower case alphabets (a-z)\n",
    "count = 97  #ascii value of A. We'll go till 122 i.e ascii value of z\n",
    "\n",
    "for i in os.listdir(root_dir)[36:]:#accessing folder after Sample036 i.e folders after the upper case alphabet Z\n",
    "    for j in os.listdir(root_dir + \"/\" + i):        \n",
    "        X.append(plt.imread(root_dir+\"/\" + i + \"/\" + j))\n",
    "        y.append(chr(count))\n",
    "            \n",
    "        \n",
    "    count+=1\n",
    "    if(count==110): break #if we have accessed the z folder then break the loop  \n"
   ]
  },
  {
   "cell_type": "code",
   "execution_count": 6,
   "metadata": {},
   "outputs": [],
   "source": [
    "count = 110\n",
    "for i in os.listdir(root_dir)[49:]: #accessing folder after Sample048 i.e folders after the lower case alphabet m \n",
    "    for j in os.listdir(root_dir + \"/\" + i):\n",
    "        X.append(plt.imread(root_dir+\"/\" + i + \"/\" + j))\n",
    "        y.append(chr(count))\n",
    "    \n",
    "        \n",
    "    count+=1   \n",
    "    if(count==123): break #if we have accessed the z folder then break the loop     "
   ]
  },
  {
   "cell_type": "code",
   "execution_count": null,
   "metadata": {},
   "outputs": [],
   "source": []
  },
  {
   "cell_type": "code",
   "execution_count": null,
   "metadata": {},
   "outputs": [],
   "source": []
  },
  {
   "cell_type": "code",
   "execution_count": null,
   "metadata": {},
   "outputs": [],
   "source": []
  },
  {
   "cell_type": "code",
   "execution_count": null,
   "metadata": {},
   "outputs": [],
   "source": []
  },
  {
   "cell_type": "code",
   "execution_count": null,
   "metadata": {},
   "outputs": [],
   "source": []
  },
  {
   "cell_type": "code",
   "execution_count": null,
   "metadata": {},
   "outputs": [],
   "source": []
  },
  {
   "cell_type": "markdown",
   "metadata": {},
   "source": [
    "Citations:\n",
    "[1]: https://machinelearningmastery.com/how-to-manually-scale-image-pixel-data-for-deep-learning/#:~:text=Normalize%20Pixel%20Values,-For%20most%20image&text=As%20such%20it%20is%20good,images%20can%20be%20viewed%20normally.\n",
    "[2]: https://becominghuman.ai/image-data-pre-processing-for-neural-networks-498289068258#:~:text=Normalizing%20image%20inputs%3A%20Data%20normalization,faster%20while%20training%20the%20network.\n",
    "[3]: https://datascience.stackexchange.com/questions/16601/reason-for-square-images-in-deep-learning"
   ]
  }
 ],
 "metadata": {
  "kernelspec": {
   "display_name": "Python 3",
   "language": "python",
   "name": "python3"
  },
  "language_info": {
   "codemirror_mode": {
    "name": "ipython",
    "version": 3
   },
   "file_extension": ".py",
   "mimetype": "text/x-python",
   "name": "python",
   "nbconvert_exporter": "python",
   "pygments_lexer": "ipython3",
   "version": "3.7.4"
  }
 },
 "nbformat": 4,
 "nbformat_minor": 2
}
