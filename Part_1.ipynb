{
 "cells": [
  {
   "cell_type": "code",
   "execution_count": 62,
   "metadata": {},
   "outputs": [],
   "source": [
    "from tensorflow.keras.models import Sequential \n",
    "from tensorflow.keras.layers import Dense, Flatten, Dropout, BatchNormalization, Conv2D, MaxPool2D\n",
    "import numpy as np\n",
    "import pandas as pd\n",
    "import matplotlib.pyplot as plt\n",
    "import os"
   ]
  },
  {
   "cell_type": "markdown",
   "metadata": {},
   "source": [
    "## Exploring the data"
   ]
  },
  {
   "cell_type": "code",
   "execution_count": 63,
   "metadata": {},
   "outputs": [
    {
     "data": {
      "image/png": "[encoded data removed]",
      "text/plain": [
       "<Figure size 432x288 with 10 Axes>"
      ]
     },
     "metadata": {
      "needs_background": "light"
     },
     "output_type": "display_data"
    }
   ],
   "source": [
    "plt.subplot(2, 5, 1)\n",
    "plt.imshow(plt.imread(\"Dataset_1/train/Sample001/img001-001.png\"))\n",
    "\n",
    "plt.subplot(2,5,2)\n",
    "plt.imshow(plt.imread(\"Dataset_1/train/Sample003/img003-002.png\"))\n",
    "\n",
    "plt.subplot(2,5,3)\n",
    "plt.imshow(plt.imread(\"Dataset_1/train/Sample005/img005-001.png\"))\n",
    "\n",
    "plt.subplot(2,5,4)\n",
    "plt.imshow(plt.imread(\"Dataset_1/train/Sample008/img008-002.png\"))\n",
    "\n",
    "plt.subplot(2,5,5)\n",
    "plt.imshow(plt.imread(\"Dataset_1/train/Sample010/img010-002.png\"))\n",
    "\n",
    "plt.subplot(2,5,6)\n",
    "plt.imshow(plt.imread(\"Dataset_1/train/Sample023/img023-001.png\"))\n",
    "\n",
    "plt.subplot(2,5,7)\n",
    "plt.imshow(plt.imread(\"Dataset_1/train/Sample019/img019-001.png\"))\n",
    "\n",
    "plt.subplot(2,5,8)\n",
    "plt.imshow(plt.imread(\"Dataset_1/train/Sample014/img014-001.png\"))\n",
    "\n",
    "plt.subplot(2,5,9)\n",
    "plt.imshow(plt.imread(\"Dataset_1/train/Sample011/img011-001.png\"))\n",
    "\n",
    "plt.subplot(2,5,10)\n",
    "plt.imshow(plt.imread(\"Dataset_1/train/Sample029/img029-002.png\"))\n",
    "\n",
    "\n",
    "plt.show()"
   ]
  },
  {
   "cell_type": "code",
   "execution_count": 65,
   "metadata": {},
   "outputs": [
    {
     "name": "stdout",
     "output_type": "stream",
     "text": [
      "(900, 1200, 3)\n"
     ]
    },
    {
     "data": {
      "image/png": "[encoded data removed]",
      "text/plain": [
       "<Figure size 432x288 with 1 Axes>"
      ]
     },
     "metadata": {
      "needs_background": "light"
     },
     "output_type": "display_data"
    }
   ],
   "source": [
    "img = plt.imread(\"Dataset_1/train/Sample002/img002-001.png\")\n",
    "print(img.shape)\n",
    "plt.imshow(img)\n",
    "plt.show()"
   ]
  },
  {
   "cell_type": "code",
   "execution_count": 28,
   "metadata": {},
   "outputs": [
    {
     "name": "stdout",
     "output_type": "stream",
     "text": [
      "maximum pixel value of image: 1.0\n",
      "minimum pixel value of image: 0.0\n"
     ]
    }
   ],
   "source": [
    "# checking the min and max pixel value. It is a good practise to normalize the pixel values\n",
    "print(\"maximum pixel value of image:\",img.max())\n",
    "print(\"minimum pixel value of image:\",img.min())"
   ]
  },
  {
   "cell_type": "raw",
   "metadata": {},
   "source": [
    "Conclusions:\n",
    "\n",
    "1) Initially, the images are of the shape 900*1200*3. As we can see from the random samples we have printed, there is a lot of unnceccsary padding in the images. We can remove this padding which would improve our computation speed.\n",
    "2) Normalizing the pixel values ensures that input parameters have a uniform distribution and thus helps in faster covergence. Since, the values are already normalized we don't need to modify the pixel values. [2]\n",
    "3) Large image size implies added noise and variance that the neural network has to deal with. Which in turn also means that we would need more layers to achieve a greater accuracy. [3]\n",
    "4) Since most of the input features are alligned towards the center, we can take a square crop of the center. This would also help us to tackle with problems mentioned in point 1 and point 3.\n",
    "\n",
    "It would optimal to apply the above transformations on the image while loading it into the numpy array. Another alternate would have been to either overwrite the images with their transformed version or create a new folder. Both of these methods are not efficient as we might end up with either loosing the data or unneccessarily increase the storage requirement."
   ]
  },
  {
   "cell_type": "markdown",
   "metadata": {},
   "source": [
    "## Loading the data and assigning the labels"
   ]
  },
  {
   "cell_type": "code",
   "execution_count": null,
   "metadata": {},
   "outputs": [],
   "source": []
  },
  {
   "cell_type": "code",
   "execution_count": null,
   "metadata": {},
   "outputs": [],
   "source": []
  },
  {
   "cell_type": "code",
   "execution_count": null,
   "metadata": {},
   "outputs": [],
   "source": []
  },
  {
   "cell_type": "code",
   "execution_count": null,
   "metadata": {},
   "outputs": [],
   "source": []
  },
  {
   "cell_type": "code",
   "execution_count": null,
   "metadata": {},
   "outputs": [],
   "source": []
  },
  {
   "cell_type": "code",
   "execution_count": null,
   "metadata": {},
   "outputs": [],
   "source": []
  },
  {
   "cell_type": "markdown",
   "metadata": {},
   "source": [
    "Citations:\n",
    "[1]: https://machinelearningmastery.com/how-to-manually-scale-image-pixel-data-for-deep-learning/#:~:text=Normalize%20Pixel%20Values,-For%20most%20image&text=As%20such%20it%20is%20good,images%20can%20be%20viewed%20normally.\n",
    "[2]: https://becominghuman.ai/image-data-pre-processing-for-neural-networks-498289068258#:~:text=Normalizing%20image%20inputs%3A%20Data%20normalization,faster%20while%20training%20the%20network.\n",
    "[3]: https://datascience.stackexchange.com/questions/16601/reason-for-square-images-in-deep-learning"
   ]
  }
 ],
 "metadata": {
  "kernelspec": {
   "display_name": "Python 3",
   "language": "python",
   "name": "python3"
  },
  "language_info": {
   "codemirror_mode": {
    "name": "ipython",
    "version": 3
   },
   "file_extension": ".py",
   "mimetype": "text/x-python",
   "name": "python",
   "nbconvert_exporter": "python",
   "pygments_lexer": "ipython3",
   "version": "3.7.4"
  }
 },
 "nbformat": 4,
 "nbformat_minor": 2
}
